{
 "cells": [
  {
   "cell_type": "markdown",
   "metadata": {},
   "source": [
    "# Basic data types"
   ]
  },
  {
   "cell_type": "markdown",
   "metadata": {},
   "source": [
    "- list comprehensions "
   ]
  },
  {
   "cell_type": "code",
   "execution_count": null,
   "metadata": {},
   "outputs": [],
   "source": [
    "if __name__ == '__main__':\n",
    "    x = int(input())\n",
    "    y = int(input())\n",
    "    z = int(input())\n",
    "    n = int(input())\n",
    "    result=[[i,t,o]\n",
    "    for i in range(x+1) \n",
    "      for t in range(y+1) \n",
    "        for o in range(z+1) if n!= i+t+o ]\n",
    "    print(result)\n",
    "    "
   ]
  },
  {
   "cell_type": "markdown",
   "metadata": {},
   "source": [
    "- finding the percentage"
   ]
  },
  {
   "cell_type": "code",
   "execution_count": null,
   "metadata": {},
   "outputs": [],
   "source": [
    "if __name__ == '__main__':\n",
    "    n = int(input())\n",
    "    student_marks = {}\n",
    "    for _ in range(n):\n",
    "        name, *line = input().split()\n",
    "        scores = list(map(float, line))\n",
    "        student_marks[name] = scores\n",
    "    query_name = input()\n",
    "    query_score= list(student_marks[query_name])\n",
    "    average=sum(query_score)/len(query_score)\n",
    "    print(\"%.2f\"%average)\n"
   ]
  },
  {
   "cell_type": "markdown",
   "metadata": {},
   "source": [
    "- Find the Runner-Up Score!"
   ]
  },
  {
   "cell_type": "code",
   "execution_count": null,
   "metadata": {},
   "outputs": [],
   "source": [
    "if __name__ == '__main__':\n",
    "    n = int(input())\n",
    "    arr = map(int, input().split())\n",
    "    lista= list(arr)\n",
    "    scores= set(lista)\n",
    "    scoreslist=list(scores)\n",
    "    scoreslist.sort(reverse=True)\n",
    "    mx= max(scoreslist)\n",
    "    scoreslist.remove(mx)\n",
    "    result=max(scoreslist)\n",
    "    print(result)"
   ]
  },
  {
   "cell_type": "markdown",
   "metadata": {},
   "source": [
    "- lists"
   ]
  },
  {
   "cell_type": "code",
   "execution_count": null,
   "metadata": {},
   "outputs": [],
   "source": [
    "if __name__ == '__main__':\n",
    "  if __name__ == '__main__':\n",
    "    lines = int(input())\n",
    "    mylist=[];\n",
    "    for i in range(0,lines):\n",
    "        com=input().split();\n",
    "        if com[0] == \"insert\":\n",
    "            mylist.insert(int(com[1]),int(com[2]))\n",
    "        elif com[0] == \"append\":\n",
    "            mylist.append(int(com[1]))\n",
    "        elif com[0] == \"pop\":\n",
    "            mylist.pop();\n",
    "        elif com[0] == \"print\":\n",
    "            print(mylist)\n",
    "        elif com[0] == \"remove\":\n",
    "            mylist.remove(int(com[1]))\n",
    "        elif com[0] == \"sort\":\n",
    "            mylist.sort();\n",
    "        else:\n",
    "            mylist.reverse();\n",
    "    "
   ]
  },
  {
   "cell_type": "markdown",
   "metadata": {},
   "source": [
    "- tuples"
   ]
  },
  {
   "cell_type": "code",
   "execution_count": null,
   "metadata": {},
   "outputs": [],
   "source": [
    "if __name__ == '__main__':\n",
    "    n = int(input())\n",
    "    mytuple= () \n",
    "    listofintegers = map(int, input().split())\n",
    "  \n",
    "    for i in listofintegers: mytuple+=(i,)  \n",
    "    print(hash(mytuple))\n",
    "\n",
    "\n",
    "\n",
    "\n"
   ]
  },
  {
   "cell_type": "markdown",
   "metadata": {},
   "source": [
    "# math"
   ]
  },
  {
   "cell_type": "markdown",
   "metadata": {},
   "source": [
    "- power-mod power"
   ]
  },
  {
   "cell_type": "code",
   "execution_count": null,
   "metadata": {},
   "outputs": [],
   "source": [
    "a,b,m= int(input()),int(input()),int(input())\n",
    "print(pow(a,b))\n",
    "print(pow(a,b,m))\n"
   ]
  },
  {
   "cell_type": "markdown",
   "metadata": {},
   "source": [
    "- mod divmod "
   ]
  },
  {
   "cell_type": "code",
   "execution_count": null,
   "metadata": {},
   "outputs": [],
   "source": [
    "a=int(input())\n",
    "b=int(input())\n",
    "print(a//b)\n",
    "print(a%b)\n",
    "print (divmod(a,b))"
   ]
  },
  {
   "cell_type": "markdown",
   "metadata": {},
   "source": [
    "- integers come in all sides"
   ]
  },
  {
   "cell_type": "code",
   "execution_count": null,
   "metadata": {},
   "outputs": [],
   "source": [
    "a=int(input())\n",
    "b=int(input())\n",
    "c=int(input())\n",
    "d=int(input())\n",
    "print(a**b+c**d)"
   ]
  },
  {
   "cell_type": "markdown",
   "metadata": {},
   "source": [
    "- triangle quest 2"
   ]
  },
  {
   "cell_type": "code",
   "execution_count": null,
   "metadata": {},
   "outputs": [],
   "source": [
    "for i in range(1,int(input())+1): \n",
    "  print(int((10**i-1)/9)**2)"
   ]
  },
  {
   "cell_type": "markdown",
   "metadata": {},
   "source": [
    "# strings"
   ]
  },
  {
   "cell_type": "markdown",
   "metadata": {},
   "source": [
    "- swap cases"
   ]
  },
  {
   "cell_type": "code",
   "execution_count": null,
   "metadata": {},
   "outputs": [],
   "source": [
    "def swap_case(s):\n",
    "    return s.swapcase()\n",
    "if __name__ == '__main__':\n",
    "    s = input()\n",
    "    result = swap_case(s)\n",
    "    print(result)"
   ]
  },
  {
   "cell_type": "markdown",
   "metadata": {},
   "source": [
    "- string split and join"
   ]
  },
  {
   "cell_type": "code",
   "execution_count": null,
   "metadata": {},
   "outputs": [],
   "source": [
    "def split_and_join(line):\n",
    "    a= line.split(\" \")\n",
    "    a= \"-\".join(a)\n",
    "    return a\n",
    "\n",
    "if __name__ == '__main__':\n",
    "    line = input()\n",
    "    result = split_and_join(line)\n",
    "    print(result)\n"
   ]
  },
  {
   "cell_type": "markdown",
   "metadata": {},
   "source": [
    "- what's your name?"
   ]
  },
  {
   "cell_type": "code",
   "execution_count": null,
   "metadata": {},
   "outputs": [],
   "source": [
    "def print_full_name(first, last):\n",
    "   print('Hello '+ first   + ' '  + last + '! '+ 'You just delved into python.')\n",
    "if __name__ == '__main__':\n",
    "    first_name = input()\n",
    "    last_name = input()\n",
    "    print_full_name(first_name, last_name)"
   ]
  },
  {
   "cell_type": "markdown",
   "metadata": {},
   "source": [
    "- mutations\n"
   ]
  },
  {
   "cell_type": "code",
   "execution_count": null,
   "metadata": {},
   "outputs": [],
   "source": [
    "def mutate_string(string, position, character):\n",
    "    return string[:position]+character+string[position+1:]\n",
    "\n",
    "if __name__ == '__main__':\n",
    "    s = input()\n",
    "    i, c = input().split()\n",
    "    s_new = mutate_string(s, int(i), c)\n",
    "    print(s_new)"
   ]
  },
  {
   "cell_type": "markdown",
   "metadata": {},
   "source": [
    "# sets"
   ]
  },
  {
   "cell_type": "markdown",
   "metadata": {},
   "source": [
    "- introduction to sets"
   ]
  },
  {
   "cell_type": "code",
   "execution_count": null,
   "metadata": {},
   "outputs": [],
   "source": [
    "def average(array):\n",
    "    myset= set(array)\n",
    "    lenght= len(myset)\n",
    "    return sum(myset)/lenght\n",
    "\n",
    "if __name__ == '__main__':\n",
    "    n = int(input())\n",
    "    arr = list(map(int, input().split()))\n",
    "    result = average(arr)\n",
    "    print(result)"
   ]
  },
  {
   "cell_type": "markdown",
   "metadata": {},
   "source": [
    "- set.union operator"
   ]
  },
  {
   "cell_type": "code",
   "execution_count": null,
   "metadata": {},
   "outputs": [],
   "source": [
    "k= int(input())\n",
    "engnws=input().split()\n",
    "frc= int(input())\n",
    "frcnws=input().split()\n",
    "set1= set(engnws)\n",
    "set2= set(frcnws)\n",
    "print(len(set1.union(set2)))"
   ]
  },
  {
   "cell_type": "markdown",
   "metadata": {},
   "source": [
    "- set.add"
   ]
  },
  {
   "cell_type": "code",
   "execution_count": null,
   "metadata": {},
   "outputs": [],
   "source": [
    "myinput=int(input())\n",
    "myset= set()\n",
    "for i in range((myinput)):\n",
    "   myset.add(input())\n",
    "print(len(myset))"
   ]
  },
  {
   "cell_type": "markdown",
   "metadata": {},
   "source": [
    "- set.difference "
   ]
  },
  {
   "cell_type": "code",
   "execution_count": null,
   "metadata": {},
   "outputs": [],
   "source": [
    "k= int(input())\n",
    "engnws=input().split()\n",
    "frc= int(input())\n",
    "frcnws=input().split()\n",
    "set1= set(engnws)\n",
    "set2= set(frcnws)\n",
    "print(len(set1.difference(set2)))\n"
   ]
  },
  {
   "cell_type": "markdown",
   "metadata": {},
   "source": [
    "# itertools"
   ]
  },
  {
   "cell_type": "markdown",
   "metadata": {},
   "source": [
    "- itertools.combinations_with_replacement()"
   ]
  },
  {
   "cell_type": "code",
   "execution_count": null,
   "metadata": {},
   "outputs": [],
   "source": [
    "\n",
    "from itertools import combinations_with_replacement\n",
    "string,number = input().split()\n",
    "string = sorted(string)\n",
    "number = int(number)\n",
    "c=[]\n",
    "c1= list(combinations_with_replacement(string,number))\n",
    "c1.append(c)\n",
    "for i in c1: \n",
    "    l=\"\".join(i)\n",
    "    print(l)"
   ]
  },
  {
   "cell_type": "markdown",
   "metadata": {},
   "source": [
    "- itertools.combinations()"
   ]
  },
  {
   "cell_type": "code",
   "execution_count": null,
   "metadata": {},
   "outputs": [],
   "source": [
    "from itertools import combinations\n",
    "string,number = input().split()\n",
    "string = sorted(string)\n",
    "number = int(number)\n",
    "\n",
    "for etime in range(1, number+1):\n",
    "    for c in list(combinations(string, etime)):\n",
    "        print(''.join(c))\n"
   ]
  },
  {
   "cell_type": "markdown",
   "metadata": {},
   "source": [
    "- itertools.permutations()"
   ]
  },
  {
   "cell_type": "code",
   "execution_count": null,
   "metadata": {},
   "outputs": [],
   "source": [
    "from itertools import permutations\n",
    "string,sizek = input().split()\n",
    "string = sorted(string)\n",
    "sizek = int(sizek)\n",
    "\n",
    "from itertools import permutations\n",
    "c = list(permutations(string,sizek))\n",
    "for i in c: \n",
    "    print(\"\".join(i))\n"
   ]
  },
  {
   "cell_type": "markdown",
   "metadata": {},
   "source": [
    "- compress the string"
   ]
  },
  {
   "cell_type": "code",
   "execution_count": null,
   "metadata": {},
   "outputs": [],
   "source": [
    "from itertools import groupby\n",
    "myinput = input()\n",
    "for n, t in groupby(myinput):\n",
    "    print((len(list(t)),int(n)),end=' ')"
   ]
  },
  {
   "cell_type": "markdown",
   "metadata": {},
   "source": [
    "# collections"
   ]
  },
  {
   "cell_type": "markdown",
   "metadata": {},
   "source": [
    "- collections.counter()"
   ]
  },
  {
   "cell_type": "code",
   "execution_count": null,
   "metadata": {},
   "outputs": [],
   "source": [
    "from collections import Counter\n",
    "x = int(input())\n",
    "shoesize = Counter(map(int,input().split()))\n",
    "costumers= int(input())\n",
    "total = 0\n",
    "for i in range(costumers):\n",
    "    size, price = map(int, input().split())\n",
    "    if size in shoesize and shoesize[size]> 0:\n",
    "        total += price\n",
    "        shoesize[size] -= 1\n",
    "    else: \n",
    "        pass\n",
    "print(total)"
   ]
  },
  {
   "cell_type": "markdown",
   "metadata": {},
   "source": [
    "- collections.ordereddict()"
   ]
  },
  {
   "cell_type": "code",
   "execution_count": null,
   "metadata": {},
   "outputs": [],
   "source": [
    "from collections import OrderedDict\n",
    "d = OrderedDict()\n",
    "for i in range(int(input())):\n",
    "    item = input().rpartition(' ')\n",
    "    if item[0] in d:\n",
    "        d[item[0]] += int(item[2])\n",
    "    else:\n",
    "        d[item[0]]= int(item[2]) \n",
    "for i in d.items():\n",
    "    print(i[0], i[1])"
   ]
  },
  {
   "cell_type": "markdown",
   "metadata": {},
   "source": [
    "- collections.deque"
   ]
  },
  {
   "cell_type": "code",
   "execution_count": null,
   "metadata": {},
   "outputs": [],
   "source": [
    "from collections import deque \n",
    "mydeq= deque()\n",
    "integer= int(input())\n",
    "for i in range(integer):\n",
    "    c= list(input().split())\n",
    "    if c [0]== \"append\":\n",
    "        mydeq.append(c[1])\n",
    "    elif c [0]== \"appendleft\":\n",
    "        mydeq.appendleft(c[1])\n",
    "    elif c [0]== \"pop\":\n",
    "        mydeq.pop()\n",
    "    elif c [0]== \"popleft\":\n",
    "        mydeq.popleft()\n",
    "for t in mydeq:\n",
    "    print(t, end= \" \")"
   ]
  },
  {
   "cell_type": "markdown",
   "metadata": {},
   "source": [
    "- company logo"
   ]
  },
  {
   "cell_type": "code",
   "execution_count": null,
   "metadata": {},
   "outputs": [],
   "source": [
    "\n",
    "import math\n",
    "import os\n",
    "import random\n",
    "import re\n",
    "import sys\n",
    "\n",
    "\n",
    "\n",
    "if __name__ == '__main__':\n",
    "    s = input()\n",
    "    s = sorted(s)\n",
    "from collections import Counter   \n",
    "freq= Counter(list(s))\n",
    "for i, t in freq.most_common(3):\n",
    "        print(i, t)"
   ]
  }
 ],
 "metadata": {
  "kernelspec": {
   "display_name": "Python 3.10.1 64-bit",
   "language": "python",
   "name": "python3"
  },
  "language_info": {
   "codemirror_mode": {
    "name": "ipython",
    "version": 3
   },
   "file_extension": ".py",
   "mimetype": "text/x-python",
   "name": "python",
   "nbconvert_exporter": "python",
   "pygments_lexer": "ipython3",
   "version": "3.10.1"
  },
  "orig_nbformat": 4,
  "vscode": {
   "interpreter": {
    "hash": "afb734500600fd355917ca529030176ea0ca205570884b88f2f6f7d791fd3fbe"
   }
  }
 },
 "nbformat": 4,
 "nbformat_minor": 2
}
