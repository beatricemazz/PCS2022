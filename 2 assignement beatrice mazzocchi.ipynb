{
 "cells": [
  {
   "cell_type": "markdown",
   "metadata": {},
   "source": [
    "# warmup"
   ]
  },
  {
   "cell_type": "markdown",
   "metadata": {},
   "source": [
    "- Solve me first"
   ]
  },
  {
   "cell_type": "code",
   "execution_count": 3,
   "metadata": {},
   "outputs": [
    {
     "name": "stdout",
     "output_type": "stream",
     "text": [
      "5\n"
     ]
    }
   ],
   "source": [
    "def solveMeFirst(a,b):\n",
    "\t\n",
    "\n",
    "    return a+b\n",
    "num1 = int(input())\n",
    "num2 = int(input())\n",
    "res = solveMeFirst(num1,num2)\n",
    "print(res)\n",
    " "
   ]
  },
  {
   "cell_type": "markdown",
   "metadata": {},
   "source": [
    "- Simple array sum"
   ]
  },
  {
   "cell_type": "code",
   "execution_count": null,
   "metadata": {},
   "outputs": [],
   "source": [
    "import math\n",
    "import os\n",
    "import random\n",
    "import re\n",
    "import sys\n",
    "\n",
    "\n",
    "\n",
    "def simpleArraySum(ar):\n",
    "    sum= 0 \n",
    "    myrange=range(len(ar))\n",
    "\n",
    "    for n in myrange:sum = sum + ar[n]\n",
    "    return sum\n",
    "      \n",
    "    \n",
    "if __name__ == '__main__':\n",
    "    fptr = open(os.environ['OUTPUT_PATH'], 'w')\n",
    "\n",
    "    ar_count = int(input().strip())\n",
    "\n",
    "    ar = list(map(int, input().rstrip().split()))\n",
    "\n",
    "    result = simpleArraySum(ar)\n",
    "\n",
    "    fptr.write(str(result) + '\\n')\n",
    "\n",
    "    fptr.close()\n"
   ]
  },
  {
   "cell_type": "markdown",
   "metadata": {},
   "source": [
    "- compare the triplets"
   ]
  },
  {
   "cell_type": "code",
   "execution_count": null,
   "metadata": {},
   "outputs": [],
   "source": [
    "\n",
    "import math\n",
    "import os\n",
    "import random\n",
    "import re\n",
    "import sys\n",
    "\n",
    "\n",
    "def compareTriplets(a, b):\n",
    "    scorea=0\n",
    "    scoreb=0\n",
    "    for i in range(len(a)):\n",
    "        for i in range(len(b)):\n",
    "          if a[i] > b[i]:\n",
    "           scorea += 1\n",
    "          if a[i] == b[i]:\n",
    "            pass\n",
    "          if a[i] < b[i]:\n",
    "            scoreb += 1\n",
    "        arraytot=[scorea,scoreb]\n",
    "        return arraytot\n",
    "if __name__ == '__main__':\n",
    "    fptr = open(os.environ['OUTPUT_PATH'], 'w')\n",
    "\n",
    "    a = list(map(int, input().rstrip().split()))\n",
    "\n",
    "    b = list(map(int, input().rstrip().split()))\n",
    "\n",
    "    result = compareTriplets(a, b)\n",
    "\n",
    "    fptr.write(' '.join(map(str, result)))\n",
    "    fptr.write('\\n')\n",
    "\n",
    "    fptr.close()\n"
   ]
  },
  {
   "cell_type": "markdown",
   "metadata": {},
   "source": [
    "- a very big sum"
   ]
  },
  {
   "cell_type": "code",
   "execution_count": null,
   "metadata": {},
   "outputs": [],
   "source": [
    "import math\n",
    "import os\n",
    "import random\n",
    "import re\n",
    "import sys\n",
    "\n",
    "def aVeryBigSum(ar):\n",
    " sum=0\n",
    " lenght= len(ar)\n",
    " for i in range(len(ar)):sum = sum + ar[i]\n",
    " return sum\n",
    " return lenght\n",
    "      \n",
    "if __name__ == '__main__':\n",
    "    fptr = open(os.environ['OUTPUT_PATH'], 'w')\n",
    "\n",
    "    ar_count = int(input().strip())\n",
    "\n",
    "    ar = list(map(int, input().rstrip().split()))\n",
    "\n",
    "    result = aVeryBigSum(ar)\n",
    "\n",
    "    fptr.write(str(result) + '\\n')\n",
    "\n",
    "    fptr.close()\n"
   ]
  },
  {
   "cell_type": "markdown",
   "metadata": {},
   "source": [
    "\n",
    "  - diagonal difference"
   ]
  },
  {
   "cell_type": "code",
   "execution_count": null,
   "metadata": {},
   "outputs": [],
   "source": [
    "import math\n",
    "import os\n",
    "import random\n",
    "import re\n",
    "import sys\n",
    "\n",
    "def diagonalDifference(arr):\n",
    "   leftdiag=0 \n",
    "   \n",
    "   for i in range(0,len(arr)):\n",
    "    leftdiag += arr[i][i]\n",
    "   for j in range(0,len(arr)):\n",
    "    leftdiag -= arr[(j)][-(j+1)] \n",
    "   absovalue= abs(leftdiag)\n",
    "   return absovalue\n",
    "  \n",
    "if __name__ == '__main__':\n",
    "    fptr = open(os.environ['OUTPUT_PATH'], 'w')\n",
    "\n",
    "    n = int(input().strip())\n",
    "\n",
    "    arr = []\n",
    "\n",
    "    for _ in range(n):\n",
    "        arr.append(list(map(int, input().rstrip().split())))\n",
    "\n",
    "    result = diagonalDifference(arr)\n",
    "\n",
    "    fptr.write(str(result) + '\\n')\n",
    "\n",
    "    fptr.close()\n",
    "\n"
   ]
  },
  {
   "cell_type": "markdown",
   "metadata": {},
   "source": [
    "- plus minus"
   ]
  },
  {
   "cell_type": "code",
   "execution_count": 32,
   "metadata": {},
   "outputs": [],
   "source": [
    "import math\n",
    "import os\n",
    "import random\n",
    "import re\n",
    "import sys\n",
    "\n",
    "def plusMinus(arr):\n",
    "    l1=0   \n",
    "    l2=0\n",
    "    l3=0\n",
    "    for i in range(len(arr)):\n",
    "        if arr[i] >0:\n",
    "           l1 += 1\n",
    "        elif arr[i] <0:\n",
    "           l2 += 1\n",
    "        else: \n",
    "           arr[i] == 0\n",
    "           l3 += 1\n",
    "    l1= l1/len(arr)\n",
    "    l2= l2/len(arr) \n",
    "    l3= l3/len(arr)\n",
    "    print(\"{:.6f}\".format(l1))\n",
    "    print(\"{:.6f}\".format(l2))\n",
    "    print(\"{:.6f}\".format(l3))\n",
    "    \n",
    "if __name__ == '__main__':\n",
    "    n = int(input().strip())\n",
    "\n",
    "    arr = list(map(int, input().rstrip().split()))\n",
    "\n",
    "    plusMinus(arr)\n"
   ]
  },
  {
   "cell_type": "markdown",
   "metadata": {},
   "source": [
    "- staircase"
   ]
  },
  {
   "cell_type": "code",
   "execution_count": 33,
   "metadata": {},
   "outputs": [],
   "source": [
    "import math\n",
    "import os\n",
    "import random\n",
    "import re\n",
    "import sys\n",
    "\n",
    "\n",
    "\n",
    "def staircase(n):\n",
    "  number=n\n",
    "  i=0 \n",
    "  for i in range(1,number+1):\n",
    "    while(i<=number):\n",
    "     print(\" \" * (n-i) + \"#\" *i)\n",
    "     i+=1 \n",
    "     break   \n",
    "     \n",
    "if __name__ == '__main__':\n",
    "    n = int(input().strip())\n",
    "\n",
    "    staircase(n)\n"
   ]
  },
  {
   "cell_type": "markdown",
   "metadata": {},
   "source": [
    "- birthday cake candles"
   ]
  },
  {
   "cell_type": "code",
   "execution_count": 34,
   "metadata": {},
   "outputs": [],
   "source": [
    "import math\n",
    "import os\n",
    "import random\n",
    "import re\n",
    "import sys\n",
    "\n",
    "\n",
    "\n",
    "\n",
    "def birthdayCakeCandles(candles):\n",
    "    for i in range(len(candles)):\n",
    "        largest= max(candles)\n",
    "        return candles.count(largest)\n",
    "        break\n",
    "if __name__ == '__main__':\n",
    "    fptr = open(os.environ['OUTPUT_PATH'], 'w')\n",
    "\n",
    "    candles_count = int(input().strip())\n",
    "\n",
    "    candles = list(map(int, input().rstrip().split()))\n",
    "\n",
    "    result = birthdayCakeCandles(candles)\n",
    "\n",
    "    fptr.write(str(result) + '\\n')\n",
    "\n",
    "    fptr.close()\n"
   ]
  },
  {
   "cell_type": "markdown",
   "metadata": {},
   "source": [
    "- min max sum"
   ]
  },
  {
   "cell_type": "code",
   "execution_count": 35,
   "metadata": {},
   "outputs": [],
   "source": [
    "\n",
    "\n",
    "import math\n",
    "import os\n",
    "import random\n",
    "import re\n",
    "import sys\n",
    "\n",
    "\n",
    "\n",
    "def miniMaxSum(arr):\n",
    "   total_arr = sum(arr)\n",
    "   arrr = sorted(arr)[0]\n",
    "   return print(total_arr - sorted(arr)[4],total_arr -arrr)\n",
    "if __name__ == '__main__':\n",
    "\n",
    "    arr = list(map(int, input().rstrip().split()))\n",
    "\n",
    "    miniMaxSum(arr)\n"
   ]
  },
  {
   "cell_type": "markdown",
   "metadata": {},
   "source": [
    "- time convertion"
   ]
  },
  {
   "cell_type": "code",
   "execution_count": 39,
   "metadata": {},
   "outputs": [],
   "source": [
    "import math\n",
    "import os\n",
    "import random\n",
    "import re\n",
    "import sys\n",
    "\n",
    "\n",
    "\n",
    "def timeConversion(s):\n",
    "    \n",
    "    hour,minute,AMPMsec= s.split(':')\n",
    "   \n",
    "\n",
    "    if AMPMsec [2:] == \"AM\" and hour == '12':\n",
    "        hour = \"00\"\n",
    "    elif AMPMsec [2:] == \"PM\" and hour != '12':\n",
    "        hour = str(int(hour) + 12)\n",
    "    else:\n",
    "       if AMPMsec [2:] == \"PM\" and hour == '12':\n",
    "          hour = \"12\"\n",
    "\n",
    "    conversion_time = hour + ':' + minute + ':' + AMPMsec [0:2]\n",
    "\n",
    "    return conversion_time\n",
    "if __name__ == '__main__':\n",
    "    fptr = open(os.environ['OUTPUT_PATH'], 'w')\n",
    "\n",
    "    s = input()\n",
    "\n",
    "    result = timeConversion(s)\n",
    "\n",
    "    fptr.write(result + '\\n')\n",
    "\n",
    "    fptr.close()\n"
   ]
  },
  {
   "cell_type": "markdown",
   "metadata": {},
   "source": [
    "# strings"
   ]
  },
  {
   "cell_type": "markdown",
   "metadata": {},
   "source": [
    "- the-love-letter-mystery"
   ]
  },
  {
   "cell_type": "code",
   "execution_count": 18,
   "metadata": {},
   "outputs": [],
   "source": [
    "import math\n",
    "import os\n",
    "import random\n",
    "import re\n",
    "import sys\n",
    "\n",
    "\n",
    "def theLoveLetterMystery(s):\n",
    "    c=0\n",
    "    mylen=len(s)\n",
    "    half= mylen//2\n",
    "    for i in range(half):\n",
    "     c= c + abs(ord(s[i])-ord(s[-i-1]))\n",
    "    return (c)\n",
    " \n",
    "if __name__ == '__main__':\n",
    "    fptr = open(os.environ['OUTPUT_PATH'], 'w')\n",
    "\n",
    "    q = int(input().strip())\n",
    "\n",
    "    for q_itr in range(q):\n",
    "        s = input()\n",
    "\n",
    "        result = theLoveLetterMystery(s)\n",
    "\n",
    "        fptr.write(str(result) + '\\n')\n",
    "\n",
    "    fptr.close()\n"
   ]
  },
  {
   "cell_type": "markdown",
   "metadata": {},
   "source": [
    "- camel case"
   ]
  },
  {
   "cell_type": "code",
   "execution_count": null,
   "metadata": {},
   "outputs": [],
   "source": [
    "import math\n",
    "import os\n",
    "import random\n",
    "import re\n",
    "import sys\n",
    "\n",
    "\n",
    "#\n",
    "\n",
    "def camelcase(s):\n",
    "    count =1 \n",
    "    \n",
    "    for char in s:\n",
    "     if char.isupper():\n",
    "      count += 1\n",
    "    return count\n",
    "        \n",
    "\n",
    "if __name__ == '__main__':\n",
    "    fptr = open(os.environ['OUTPUT_PATH'], 'w')\n",
    "\n",
    "    s = input()\n",
    "\n",
    "    result = camelcase(s)\n",
    "\n",
    "    fptr.write(str(result) + '\\n')\n",
    "\n",
    "    fptr.close()\n"
   ]
  },
  {
   "cell_type": "markdown",
   "metadata": {},
   "source": [
    "- pangrams"
   ]
  },
  {
   "cell_type": "code",
   "execution_count": null,
   "metadata": {},
   "outputs": [],
   "source": [
    "import math\n",
    "import os\n",
    "import random\n",
    "import re\n",
    "import sys\n",
    "\n",
    "\n",
    "def pangrams(s):\n",
    "    alph='abcdefghijklmnopqrstuvwxyz'\n",
    "    myset= set(alph)\n",
    "    \n",
    "    if len(myset-set(s.lower())) ==0:\n",
    "       return 'pangram'\n",
    "    else:\n",
    "        return 'not pangram'\n",
    "\n",
    "if __name__ == '__main__':\n",
    "    fptr = open(os.environ['OUTPUT_PATH'], 'w')\n",
    "\n",
    "    s = input()\n",
    "\n",
    "    result = pangrams(s)\n",
    "\n",
    "    fptr.write(result + '\\n')\n",
    "\n",
    "    fptr.close()\n",
    "\n"
   ]
  },
  {
   "cell_type": "markdown",
   "metadata": {},
   "source": [
    "- strong password"
   ]
  },
  {
   "cell_type": "code",
   "execution_count": null,
   "metadata": {},
   "outputs": [],
   "source": [
    "import math\n",
    "import os\n",
    "import random\n",
    "import re\n",
    "import sys\n",
    "\n",
    "\n",
    "    \n",
    "def minimumNumber(n, password):\n",
    " criteria=[]\n",
    " numbers = \"0123456789\"\n",
    " lower_case = \"abcdefghijklmnopqrstuvwxyz\"\n",
    " upper_case = \"ABCDEFGHIJKLMNOPQRSTUVWXYZ\"\n",
    " special_characters = \"!@#$%^&*()-+.\"\n",
    " count=[0,0,0,0]\n",
    " criteria.append(numbers)\n",
    " criteria.append(lower_case)\n",
    " criteria.append(upper_case) \n",
    " criteria.append(special_characters)\n",
    " for crit in password:\n",
    "        if crit in numbers:\n",
    "            count[0]=1\n",
    "        if crit in lower_case:\n",
    "            count[1]=1\n",
    "        if crit in upper_case:\n",
    "            count[2]=1\n",
    "        if crit in special_characters:\n",
    "            count[3]=1\n",
    "      \n",
    " return max(6- len(password), 4- sum(count))\n",
    "\n",
    "if __name__ == '__main__':\n",
    "    fptr = open(os.environ['OUTPUT_PATH'], 'w')\n",
    "\n",
    "    n = int(input().strip())\n",
    "\n",
    "    password = input()\n",
    "\n",
    "    answer = minimumNumber(n, password)\n",
    "\n",
    "    fptr.write(str(answer) + '\\n')\n",
    "\n",
    "    fptr.close()\n",
    "\n"
   ]
  },
  {
   "cell_type": "markdown",
   "metadata": {},
   "source": [
    "- alternating characters"
   ]
  },
  {
   "cell_type": "code",
   "execution_count": null,
   "metadata": {},
   "outputs": [],
   "source": [
    "import math\n",
    "import os\n",
    "import random\n",
    "import re\n",
    "import sys\n",
    "\n",
    "\n",
    "\n",
    "def alternatingCharacters(s):\n",
    "    counter=0\n",
    "    for h in range(len(s)-1):\n",
    "        if s[h] != s[h+ 1]:\n",
    "            continue\n",
    "        elif s[h] == s[h+ 1]:\n",
    "           counter += 1\n",
    "    return counter\n",
    "if __name__ == '__main__':\n",
    "    fptr = open(os.environ['OUTPUT_PATH'], 'w')\n",
    "\n",
    "    q = int(input().strip())\n",
    "\n",
    "    for q_itr in range(q):\n",
    "        s = input()\n",
    "\n",
    "        result = alternatingCharacters(s)\n",
    "\n",
    "        fptr.write(str(result) + '\\n')\n",
    "\n",
    "    fptr.close()\n",
    "\n"
   ]
  },
  {
   "cell_type": "markdown",
   "metadata": {},
   "source": [
    "# sort\n"
   ]
  },
  {
   "cell_type": "markdown",
   "metadata": {},
   "source": [
    "- insertion sort part 1"
   ]
  },
  {
   "cell_type": "code",
   "execution_count": null,
   "metadata": {},
   "outputs": [],
   "source": [
    "import math\n",
    "import os\n",
    "import random\n",
    "import re\n",
    "import sys\n",
    "\n",
    "\n",
    "def insertionSort1(n, arr):\n",
    "   for i in range(n-1,-1,-1):\n",
    "        key= arr[i]\n",
    "        h= i-1\n",
    "        while h >=0 and arr[h]> key:\n",
    "           arr[h+1]=arr[h]\n",
    "           h -=1\n",
    "           print(*arr)\n",
    "           arr[h+1]= key\n",
    "        print(*arr)\n",
    "        break\n",
    "\n",
    "if __name__ == '__main__':\n",
    "    n = int(input().strip())\n",
    "\n",
    "    arr = list(map(int, input().rstrip().split()))\n",
    "\n",
    "    insertionSort1(n, arr)"
   ]
  },
  {
   "cell_type": "markdown",
   "metadata": {},
   "source": [
    "- Intro to Tutorial Challenges"
   ]
  },
  {
   "cell_type": "code",
   "execution_count": null,
   "metadata": {},
   "outputs": [],
   "source": [
    "import math\n",
    "import os\n",
    "import random\n",
    "import re\n",
    "import sys\n",
    "\n",
    "\n",
    "def introTutorial(V, arr):\n",
    "   return arr.index(V)\n",
    "\n",
    "if __name__ == '__main__':\n",
    "    fptr = open(os.environ['OUTPUT_PATH'], 'w')\n",
    "\n",
    "    V = int(input().strip())\n",
    "\n",
    "    n = int(input().strip())\n",
    "\n",
    "    arr = list(map(int, input().rstrip().split()))\n",
    "\n",
    "    result = introTutorial(V, arr)\n",
    "\n",
    "    fptr.write(str(result) + '\\n')\n",
    "\n",
    "    fptr.close()\n"
   ]
  },
  {
   "cell_type": "markdown",
   "metadata": {},
   "source": [
    "- Correctness and the Loop Invariant"
   ]
  },
  {
   "cell_type": "code",
   "execution_count": 12,
   "metadata": {},
   "outputs": [
    {
     "name": "stdout",
     "output_type": "stream",
     "text": [
      "1 2 3 4 5 6\n"
     ]
    }
   ],
   "source": [
    "def insertion_sort(l):\n",
    "    for i in range(1, len(l)):\n",
    "        j = i-1\n",
    "        key = l[i]\n",
    "        while (j >= 0) and (l[j] > key):\n",
    "           l[j+1] = l[j]\n",
    "           j -= 1\n",
    "        l[j+1] = key\n",
    "\n",
    "m = int(input().strip())\n",
    "ar = [int(i) for i in input().strip().split()]\n",
    "insertion_sort(ar)\n",
    "print(\" \".join(map(str,ar)))\n",
    "\n"
   ]
  },
  {
   "cell_type": "markdown",
   "metadata": {},
   "source": [
    "- insertion sort 2"
   ]
  },
  {
   "cell_type": "code",
   "execution_count": 5,
   "metadata": {},
   "outputs": [
    {
     "name": "stdout",
     "output_type": "stream",
     "text": [
      "1 4 3 5 6 2\n",
      "1 3 4 5 6 2\n",
      "1 3 4 5 6 2\n",
      "1 3 4 5 6 2\n",
      "1 2 3 4 5 6\n"
     ]
    }
   ],
   "source": [
    "#!/bin/python3\n",
    "\n",
    "import math\n",
    "import os\n",
    "import random\n",
    "import re\n",
    "import sys\n",
    "\n",
    "\n",
    "def insertionSort2(n, arr):\n",
    "    for value in range(1,n):\n",
    "        tmp= arr[value]\n",
    "        pos=value\n",
    "        while pos > 0 and arr[pos-1]> tmp:\n",
    "           arr[pos]=arr[pos-1]\n",
    "           pos-=1\n",
    "        arr[pos]= tmp\n",
    "        print(*arr)\n",
    "        \n",
    "\n",
    "if __name__ == '__main__':\n",
    "    n = int(input().strip())\n",
    "\n",
    "    arr = list(map(int, input().rstrip().split()))\n",
    "\n",
    "    insertionSort2(n, arr)\n"
   ]
  },
  {
   "cell_type": "markdown",
   "metadata": {},
   "source": [
    "- find the median"
   ]
  },
  {
   "cell_type": "code",
   "execution_count": null,
   "metadata": {},
   "outputs": [],
   "source": [
    "import math\n",
    "import os\n",
    "import random\n",
    "import re\n",
    "import sys\n",
    "\n",
    "\n",
    "def findMedian(arr):\n",
    "  myarr=arr.sort()\n",
    "  k= len(arr)//2\n",
    "  return (arr[k])\n",
    "\n",
    "if __name__ == '__main__':\n",
    "    fptr = open(os.environ['OUTPUT_PATH'], 'w')\n",
    "\n",
    "    n = int(input().strip())\n",
    "\n",
    "    arr = list(map(int, input().rstrip().split()))\n",
    "\n",
    "    result = findMedian(arr)\n",
    "\n",
    "    fptr.write(str(result) + '\\n')\n",
    "\n",
    "    fptr.close()\n"
   ]
  },
  {
   "cell_type": "markdown",
   "metadata": {},
   "source": [
    "- running time of algorithms"
   ]
  },
  {
   "cell_type": "code",
   "execution_count": null,
   "metadata": {},
   "outputs": [],
   "source": [
    "import math\n",
    "import os\n",
    "import random\n",
    "import re\n",
    "import sys\n",
    "\n",
    "\n",
    "def runningTime(arr):\n",
    "  tot=0\n",
    "  if arr != sorted(arr):\n",
    "    for i in range(1,len(arr)):\n",
    "      mytar = arr[i]\n",
    "      j= i-1\n",
    "      while j >= 0 and arr[j] > mytar:\n",
    "        arr[j+1]= arr[j]\n",
    "        tot += 1\n",
    "        j-=1\n",
    "      arr[j+1]=mytar\n",
    "  return tot\n",
    "\n",
    "if __name__ == '__main__':\n",
    "    fptr = open(os.environ['OUTPUT_PATH'], 'w')\n",
    "\n",
    "    n = int(input().strip())\n",
    "\n",
    "    arr = list(map(int, input().rstrip().split()))\n",
    "\n",
    "    result = runningTime(arr)\n",
    "\n",
    "    fptr.write(str(result) + '\\n')\n",
    "\n",
    "    fptr.close()\n"
   ]
  },
  {
   "cell_type": "markdown",
   "metadata": {},
   "source": [
    "- counting sort 1"
   ]
  },
  {
   "cell_type": "code",
   "execution_count": null,
   "metadata": {},
   "outputs": [],
   "source": [
    "import math\n",
    "import os\n",
    "import random\n",
    "import re\n",
    "import sys\n",
    "\n",
    "\n",
    "\n",
    "def countingSort(arr):\n",
    "    mycounter= [0]*100\n",
    "    for number in arr:\n",
    "        mycounter[number] += 1\n",
    "    return mycounter\n",
    "\n",
    "if __name__ == '__main__':\n",
    "    fptr = open(os.environ['OUTPUT_PATH'], 'w')\n",
    "\n",
    "    n = int(input().strip())\n",
    "\n",
    "    arr = list(map(int, input().rstrip().split()))\n",
    "\n",
    "    result = countingSort(arr)\n",
    "\n",
    "    fptr.write(' '.join(map(str, result)))\n",
    "    fptr.write('\\n')\n",
    "\n",
    "    fptr.close()\n"
   ]
  },
  {
   "cell_type": "markdown",
   "metadata": {},
   "source": [
    "- counting sort 2"
   ]
  },
  {
   "cell_type": "code",
   "execution_count": null,
   "metadata": {},
   "outputs": [],
   "source": [
    "import math\n",
    "import os\n",
    "import random\n",
    "import re\n",
    "import sys\n",
    "\n",
    "\n",
    "def countingSort(arr):\n",
    "   \n",
    "\n",
    "    counts = [arr.count(g) for g in range(100)]\n",
    "    result = []\n",
    "    for g in range(len(counts)):\n",
    "        result += [g]* counts[g]\n",
    "    return result\n",
    "if __name__ == '__main__':\n",
    "    fptr = open(os.environ['OUTPUT_PATH'], 'w')\n",
    "\n",
    "    n = int(input().strip())\n",
    "\n",
    "    arr = list(map(int, input().rstrip().split()))\n",
    "\n",
    "    result = countingSort(arr)\n",
    "\n",
    "    fptr.write(' '.join(map(str, result)))\n",
    "    fptr.write('\\n')\n",
    "\n",
    "    fptr.close()\n"
   ]
  },
  {
   "cell_type": "markdown",
   "metadata": {},
   "source": [
    "- closest numbers"
   ]
  },
  {
   "cell_type": "code",
   "execution_count": null,
   "metadata": {},
   "outputs": [],
   "source": [
    "import math\n",
    "import os\n",
    "import random\n",
    "import re\n",
    "import sys\n",
    "\n",
    "\n",
    "\n",
    "def closestNumbers(arr):\n",
    "    sorted= arr.sort()\n",
    "    min_diff = arr[1]- arr[0]\n",
    "    res = []\n",
    "    for i in range(len(arr)-1):\n",
    "        while arr[i+1]- arr[i] < min_diff:\n",
    "            min_diff = arr[i+1]- arr[i]\n",
    "            res = []\n",
    "        else:\n",
    "            if arr[i+1] - arr[i] == min_diff:\n",
    "               res += [arr[i], arr[i+1]]\n",
    "    return res\n",
    "\n",
    "if __name__ == '__main__':\n",
    "    fptr = open(os.environ['OUTPUT_PATH'], 'w')\n",
    "\n",
    "    n = int(input().strip())\n",
    "\n",
    "    arr = list(map(int, input().rstrip().split()))\n",
    "\n",
    "    result = closestNumbers(arr)\n",
    "\n",
    "    fptr.write(' '.join(map(str, result)))\n",
    "    fptr.write('\\n')\n",
    "\n",
    "    fptr.close()\n"
   ]
  },
  {
   "cell_type": "markdown",
   "metadata": {},
   "source": [
    "- quick sort1 partition"
   ]
  },
  {
   "cell_type": "code",
   "execution_count": null,
   "metadata": {},
   "outputs": [],
   "source": [
    "import math\n",
    "import os\n",
    "import random\n",
    "import re\n",
    "import sys\n",
    "\n",
    "\n",
    "def quickSort(arr):\n",
    "    \n",
    "   \n",
    "    l=[]\n",
    "    r=[] \n",
    "    p = arr[0]\n",
    "    for i in range(len(arr)):\n",
    "        if arr[i]<p:\n",
    "           l.append(arr[i])\n",
    "        if arr[i] > p:\n",
    "            r.append(arr[i])\n",
    "    return l+[p] + r \n",
    "if __name__ == '__main__':\n",
    "    fptr = open(os.environ['OUTPUT_PATH'], 'w')\n",
    "\n",
    "    n = int(input().strip())\n",
    "\n",
    "    arr = list(map(int, input().rstrip().split()))\n",
    "\n",
    "    result = quickSort(arr)\n",
    "\n",
    "    fptr.write(' '.join(map(str, result)))\n",
    "    fptr.write('\\n')\n",
    "\n",
    "    fptr.close()\n"
   ]
  }
 ],
 "metadata": {
  "kernelspec": {
   "display_name": "Python 3.10.1 64-bit",
   "language": "python",
   "name": "python3"
  },
  "language_info": {
   "codemirror_mode": {
    "name": "ipython",
    "version": 3
   },
   "file_extension": ".py",
   "mimetype": "text/x-python",
   "name": "python",
   "nbconvert_exporter": "python",
   "pygments_lexer": "ipython3",
   "version": "3.10.1"
  },
  "orig_nbformat": 4,
  "vscode": {
   "interpreter": {
    "hash": "afb734500600fd355917ca529030176ea0ca205570884b88f2f6f7d791fd3fbe"
   }
  }
 },
 "nbformat": 4,
 "nbformat_minor": 2
}
