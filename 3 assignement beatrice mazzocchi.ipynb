{
 "cells": [
  {
   "cell_type": "markdown",
   "metadata": {},
   "source": [
    "- DNA "
   ]
  },
  {
   "cell_type": "code",
   "execution_count": 5,
   "metadata": {},
   "outputs": [
    {
     "name": "stdout",
     "output_type": "stream",
     "text": [
      "249 235 219 252\n"
     ]
    }
   ],
   "source": [
    "from collections import Counter\n",
    "seq= 'AGGTCTAGGTGTCAAATTTACAAGTCGCTCGTTAGTGCATTATCGACGCCAATTGATAGGCTGTCATATTGTGGCTGGCAGAGAGTGAGAACTACACATTCTCGCGTATAGGGCCCTAGATCTCCATGTCATGTGTAACACTTTGGGCTTCTGGATAAAATTTAATTATTGTAATAAATCTCAGTCATACCTTTCGTCCCACTAGGTGTGACTGGACCTACCGGTGTGAGTCGGCATGACGGAGGATCGAATACGATGACATAACATGCGCGCTAAAATCATGATACGTATGGGAGTGAGGTGGATCACGCCAACTTCAGACAATCACTGCCTACACCGGGAGAAAGTTTCGATCGCGTCAGGGCACGGCCCTCCACGGAGAAGTCACTATTACCCTACAGTAGAAATCGGGTGGATATGCAGGCGAGGAATCCAATAATGTCCGGCAGGTATGTACAGATCCGTCCCCGTTGACATTGGGCAGACATAATGCGATCAAGTCAATAAAATGGCGACTACACACGCTCCTGTCACTACTCCGTGTATGCCAGCCGCTCTGAAATATGTGTTCTGTCGCGGGTGTTGTTTTCGCGACATAATTCTCGGGACTTATACTCGTCAAGAAGCTGCTCATGTCGTAACCGTCTACGAGCGGTATGCACATGTAGGATCAATCACTATTCTGTCAAAGACCTGCCCTAATCTACCTTCAGCATTTCAGGAGTCAGAATGTCAGACGACTCCTCTCTACAACCTCAGTCCCGTAGTTATTGCACGACCGTCCGTATCCCAGAATCTAAATTTGGTTTGCATTCACGGTATTATTTCAGTTAAATAAACACACCGGGGGTACAAGGTCAGCATTCGTTAAGGAGCCCTTACAATGACATCGCTTCGATCCGCTCCTGGTCCTACTCCCGCATACCTGCTTCAGGTTCAGAGGTCTGACAAATTC'\n",
    "myoccurences=(Counter(seq))\n",
    "myoccurences['A']\n",
    "myoccurences['C']\n",
    "myoccurences['G']\n",
    "myoccurences['T']\n",
    "for o in myoccurences:\n",
    " print(myoccurences['A'],myoccurences['C'],myoccurences['G'],myoccurences['T'])\n",
    " break"
   ]
  },
  {
   "cell_type": "markdown",
   "metadata": {},
   "source": [
    "- RNA"
   ]
  },
  {
   "cell_type": "code",
   "execution_count": 4,
   "metadata": {},
   "outputs": [
    {
     "name": "stdout",
     "output_type": "stream",
     "text": [
      "UCUGGGGUCUGCUCCUGGUCAAGGCACGAGAAGUGUCCUGUGCUAGAUCUAGACGUGGUUCCUUAGUGUGUCAUUUUCAGAUGGAGACGAAAAUCCUACGCGGGGGUGAUAGUCAAUAUAGUUUAGACGGGAGCAGCAGCUCCUCGUUGUCGAUACCUCAGUUCGACAUCGGUAGGGGACUGCUGGUUACUGGGGAAGGAUAAGAUACCGUGAGCAGCGAUGCUAACGUGUGCCAGCAAGGAUAAUGAGCCCCCUGCCGGCUCGAACAAGCUAGGAUCCCCUCCGUCCAUUCUCAGUACCAGGUUCUCCUGAGGCUCAUCCGCAAGCCUGGUCCAUGCGAGGUUGCGGGAUAACUUGGUUGGACGUCAACUGCCUUGUGUGGGCACUUACUCUGCAAUGGACCGAGCAAAAUCUAGACCCGUAUAAUAACCCUCAGUAAGUCAUUCCGGGAUGUGACAAGUCCGAGACAUAUGACUAACGCACCCGUUUACCCACGCUGACUUCAGAACCUUACUAGCCAGGCCCCGCUGGAACCCCUCUAACCACGUGGGUGUAACUGACUGACCCCGCAUACGCUCGUUUAGUUCCCCAGAGAAUCACUGAACAGUAGCUGUCACCUGUUUCUCCAGCCACACUGCCAGCCAACCAAGAGCCACGGGGACGGGGCAAGCAGCAGACCGACGGGCUCAGAAAGGGAUAUAAGGGUAAAUCAUAUCGGGUCAAACGUCUGCGCAUCUUUUGCCGUCUUCUGUUUCACCUCAAAAUGAGCUUAAAGUUUUAGCUUAGUCAAAUCUGAGGCGAAACUAAGGUCUGAGGCGAGCACGGGACAGGCCGGGUCGGAGGAGUGGGCAACUCGACCCACUACCUCGGGAGCUACCUGGAUGCUCUUUUCUAACUGGGCGCGGUUCCAAUUCGGUCGCCCAAUUCGCAACCAAUGGGAAUUGAGACAAUGAAGUGGCGAAGGUCGAUACCGUGCGGGGGCUG\n"
     ]
    }
   ],
   "source": [
    "seq='TCTGGGGTCTGCTCCTGGTCAAGGCACGAGAAGTGTCCTGTGCTAGATCTAGACGTGGTTCCTTAGTGTGTCATTTTCAGATGGAGACGAAAATCCTACGCGGGGGTGATAGTCAATATAGTTTAGACGGGAGCAGCAGCTCCTCGTTGTCGATACCTCAGTTCGACATCGGTAGGGGACTGCTGGTTACTGGGGAAGGATAAGATACCGTGAGCAGCGATGCTAACGTGTGCCAGCAAGGATAATGAGCCCCCTGCCGGCTCGAACAAGCTAGGATCCCCTCCGTCCATTCTCAGTACCAGGTTCTCCTGAGGCTCATCCGCAAGCCTGGTCCATGCGAGGTTGCGGGATAACTTGGTTGGACGTCAACTGCCTTGTGTGGGCACTTACTCTGCAATGGACCGAGCAAAATCTAGACCCGTATAATAACCCTCAGTAAGTCATTCCGGGATGTGACAAGTCCGAGACATATGACTAACGCACCCGTTTACCCACGCTGACTTCAGAACCTTACTAGCCAGGCCCCGCTGGAACCCCTCTAACCACGTGGGTGTAACTGACTGACCCCGCATACGCTCGTTTAGTTCCCCAGAGAATCACTGAACAGTAGCTGTCACCTGTTTCTCCAGCCACACTGCCAGCCAACCAAGAGCCACGGGGACGGGGCAAGCAGCAGACCGACGGGCTCAGAAAGGGATATAAGGGTAAATCATATCGGGTCAAACGTCTGCGCATCTTTTGCCGTCTTCTGTTTCACCTCAAAATGAGCTTAAAGTTTTAGCTTAGTCAAATCTGAGGCGAAACTAAGGTCTGAGGCGAGCACGGGACAGGCCGGGTCGGAGGAGTGGGCAACTCGACCCACTACCTCGGGAGCTACCTGGATGCTCTTTTCTAACTGGGCGCGGTTCCAATTCGGTCGCCCAATTCGCAACCAATGGGAATTGAGACAATGAAGTGGCGAAGGTCGATACCGTGCGGGGGCTG'\n",
    "mylist= (seq)\n",
    "for l in mylist:\n",
    "  if l== 'T':\n",
    "      u=seq.replace('T','U')\n",
    "  break\n",
    "print(u)\n"
   ]
  },
  {
   "cell_type": "markdown",
   "metadata": {},
   "source": [
    "- Complementing a Strand of DNA"
   ]
  },
  {
   "cell_type": "code",
   "execution_count": 3,
   "metadata": {},
   "outputs": [
    {
     "name": "stdout",
     "output_type": "stream",
     "text": [
      "CTAAGGATCAGGAGAATCCTTCCGCACATAACTTGCTAATGTGTGGAGAGTAGTCATTGGAACCAGAGGGTGGCGGTGCAACTACAAAGACGCGGTCGTGCATGCATGCGGGCTGGCGCGCGTGTACGCATGCCACGAAGGCAGACTACATGGGCTTAGGTTCGCCCAAGCCTGGCCATTGAAACAGCATGAACTCTACAGGTCGGAGAAGGCCGCCTAGCAATTGCGAATCGCATGAGGCTGAGTGAAATATCGTCTCGCCCCCGGGAAATAATTAGCGGCCGGATTCTGTCGGATAGGTATCGTCGTTGGCGGGTGGTCAAGTAGAAGAAGCGACTAATTGGATTAAGCGCGTCCTCCAACTGCGGGTCAGACCTACTCGGCAACCACTCGCAACTCCTTGACAAATCCCTTGTAAATTAGTCCACTTTCTTGGATGTGAGGTGGGCTACGAACTGCGCTCCGCAAAGGGTTTTGTCTGACTGATGTGCTTTTACTAGCACCGTCGCGTCGTGCACGAGTAGCTTTCGTCCACCACTATAGCGGACCACACGAGCGGAGCGGACGCAATTTCGACCCCAGTGGATTGGTATAAGCTTACAGTGCTGAGCTTCGAGACCGCCGCGGAGTCTGAATAATTATACGGTAGAAACGCGAGCTAAGAAGTCGCGCCCACGGATTCGCCCCACGTTGGGGTCTAAGTAGCATATGTCTCTCACTCCATAGAAGCGGTAATCCCACACGTCAGCCTGACTCGGGCACCTGGACGTCGCTTTACTAAGAACCTATATTGCTCATTACGATTGAATGGGGTCTCGATGGATCCCGCGAAAGG\n"
     ]
    }
   ],
   "source": [
    "seq= 'CCTTTCGCGGGATCCATCGAGACCCCATTCAATCGTAATGAGCAATATAGGTTCTTAGTAAAGCGACGTCCAGGTGCCCGAGTCAGGCTGACGTGTGGGATTACCGCTTCTATGGAGTGAGAGACATATGCTACTTAGACCCCAACGTGGGGCGAATCCGTGGGCGCGACTTCTTAGCTCGCGTTTCTACCGTATAATTATTCAGACTCCGCGGCGGTCTCGAAGCTCAGCACTGTAAGCTTATACCAATCCACTGGGGTCGAAATTGCGTCCGCTCCGCTCGTGTGGTCCGCTATAGTGGTGGACGAAAGCTACTCGTGCACGACGCGACGGTGCTAGTAAAAGCACATCAGTCAGACAAAACCCTTTGCGGAGCGCAGTTCGTAGCCCACCTCACATCCAAGAAAGTGGACTAATTTACAAGGGATTTGTCAAGGAGTTGCGAGTGGTTGCCGAGTAGGTCTGACCCGCAGTTGGAGGACGCGCTTAATCCAATTAGTCGCTTCTTCTACTTGACCACCCGCCAACGACGATACCTATCCGACAGAATCCGGCCGCTAATTATTTCCCGGGGGCGAGACGATATTTCACTCAGCCTCATGCGATTCGCAATTGCTAGGCGGCCTTCTCCGACCTGTAGAGTTCATGCTGTTTCAATGGCCAGGCTTGGGCGAACCTAAGCCCATGTAGTCTGCCTTCGTGGCATGCGTACACGCGCGCCAGCCCGCATGCATGCACGACCGCGTCTTTGTAGTTGCACCGCCACCCTCTGGTTCCAATGACTACTCTCCACACATTAGCAAGTTATGTGCGGAAGGATTCTCCTGATCCTTAG'\n",
    "for c in seq:\n",
    "    seq=seq.replace(\"A\", \"t\")\n",
    "    seq=seq.replace(\"C\", \"g\")\n",
    "    seq=seq.replace(\"T\", \"a\")\n",
    "    seq=seq.replace(\"G\", \"c\")\n",
    "    seq = seq.upper()\n",
    "    break   \n",
    "seq = seq[::-1]\n",
    "print(seq)\n",
    " "
   ]
  },
  {
   "cell_type": "markdown",
   "metadata": {},
   "source": [
    "- subs"
   ]
  },
  {
   "cell_type": "code",
   "execution_count": 1,
   "metadata": {},
   "outputs": [
    {
     "name": "stdout",
     "output_type": "stream",
     "text": [
      "20 38 45 100 107 114 121 176 203 273 280 301 319 372 476 508 552 559 586 593 706 739 776 793 852 \n"
     ]
    }
   ],
   "source": [
    "s='ACAGATATTGACAGATATCACAGATAACACAGATACGACAGATAACAGATAACAGATAAGACAGATATCACAGATAAACGAAACAGATAAACAGATATTACAGATAACAGATAACAGATAACAGATAACAGATAGCGGGAACAGATAGGGACAGATAAGACAGATATACAGATATACAGATAACAGATATGCACAGATAATGACAGATAACAGATAAACAGATAAGACAGATAAACAGATAGATGAGAACAGATACACAGATAATTAATTGGACAGATAACAGATAACTACAGATAAACAACAGATAACTAGCCGGAGACAGATAACAGATAAAACCACTACAGATATGTGACAGATAAACAGATAGTACCACAGATAACAGATAGGAACAGATATGACGACCAACAGACAGATACACAGATAGACAGATATTGGCTTCAACACAGATACCTTTGCCACAGATAAACAGATACCAACAGATAACAGATAGTGCGTATAACAGATAGTACAGATAACAGATATATAGGCTACAGATACCAGCGCACAGATATACAGATAACAGATAACAGATACGCCGCGGGGACAACAGATAACAGATAACATTTAACAGATAGGCGAGTCTTCACAGATATACAGATACCTGGACAGATATCACAGATAAGGCGACAGATAAAGCTACAGATATACAGATAGAGCGACAGATAAACAGATAACAGATACACAGATAGGCATTCGCAGACAGATAACAGATAGTAGACGTCGTCGACACAGATAAACAGATAACAGATAGCAACAGATAACAGATACTACAGATACTCTAACAGATATACAGATACGGACAGATATATCATACAGATAACAGATAATCACAGATACTACACGGCTTC'\n",
    "t='ACAGATAAC'\n",
    "positions = ''\n",
    "for i in range(len(s)):\n",
    "        if s[i] == t[0] and s[i:i+len(t)] == t:\n",
    "          strr=str(i+1) \n",
    "          positions= positions + strr +' '\n",
    "        \n",
    "print(positions,end='\\n')"
   ]
  },
  {
   "cell_type": "markdown",
   "metadata": {},
   "source": [
    "- mendel's first law"
   ]
  },
  {
   "cell_type": "code",
   "execution_count": 2,
   "metadata": {},
   "outputs": [
    {
     "name": "stdout",
     "output_type": "stream",
     "text": [
      "0.7609289617486339\n"
     ]
    }
   ],
   "source": [
    "k = 21  # AA represent homozygous dominant\n",
    "m = 20  # Aa  represent heterozygous\n",
    "n = 20  # aa  represent homozygous recessive\n",
    "populationsize= k+m+n \n",
    "#punnet square \n",
    "aaxaa= (n/populationsize)* ((n-1)/(populationsize-1)) \n",
    "Aaxaa= (m/populationsize)* ((m-1)/(populationsize-1))\n",
    "Aaxaa_aaxAa= (m/populationsize)* (n/(populationsize-1)) + (n/populationsize)* (m/(populationsize-1))\n",
    "print(1-(aaxaa+ Aaxaa/4 + Aaxaa_aaxAa/2)) #i can find the dominant probability by removing to 1 the recessive probability "
   ]
  },
  {
   "cell_type": "markdown",
   "metadata": {},
   "source": [
    "- indipendent alleles"
   ]
  },
  {
   "cell_type": "code",
   "execution_count": 6,
   "metadata": {},
   "outputs": [
    {
     "name": "stdout",
     "output_type": "stream",
     "text": [
      "0.4333521110224611\n"
     ]
    }
   ],
   "source": [
    "#k (k≤7) and N (N≤2k)\n",
    "#at least N Aa Bb organisms will belong to the k-th generation of Tom's family tree \n",
    "import math\n",
    "\n",
    "k=6\n",
    "n=17\n",
    "p =0\n",
    "child_num = 2 ** k\n",
    "for i in range(n,child_num+1): \n",
    "    p+= math.comb(child_num, i) * (0.25 ** i) * (0.75 ** (child_num - i))\n",
    "print(p) \n"
   ]
  },
  {
   "cell_type": "markdown",
   "metadata": {},
   "source": [
    "- calculating expected offspring"
   ]
  },
  {
   "cell_type": "code",
   "execution_count": 10,
   "metadata": {},
   "outputs": [
    {
     "name": "stdout",
     "output_type": "stream",
     "text": [
      "142726.0\n"
     ]
    }
   ],
   "source": [
    "l=[17473, 16022, 18007,19581, 16993, 17299]\n",
    "AAxAA=1*l[0] \n",
    "AAXAa=1*l[1] \n",
    "AAxaa=1*l[2]\n",
    "AaxAa=0.75*l[3] \n",
    "Aaxaa=0.5*l[4]\n",
    "offspring = (AAxAA+ AAXAa + Aaxaa+ AaxAa+AaxAa)* 2 \n",
    "\n",
    "# in position 1 and 2 we multiply by 1 (max probability) because in any case we'll have dominant phenotype\n",
    "#in position 3 we have a dominant phenotype in 3 cases (0,25 +0,25 +0,25 = 0,75)\n",
    "#in position 3 we have a dominant phenotype in 2 cases (0,25 +0,25 = 0,50)\n",
    "#we can exclude position 5 because for the last couple we cannot obtain dominant phenotype, p=0\n",
    "print (offspring)\n"
   ]
  },
  {
   "cell_type": "markdown",
   "metadata": {},
   "source": [
    "- GC content"
   ]
  },
  {
   "cell_type": "code",
   "execution_count": 68,
   "metadata": {},
   "outputs": [
    {
     "name": "stdout",
     "output_type": "stream",
     "text": [
      "Rosalind_5970 53.77875136911282\n"
     ]
    }
   ],
   "source": [
    "from Bio import SeqIO\n",
    "idmax = None\n",
    "gcmax = 0\n",
    "for line in SeqIO.parse('rosalind_gc.txt', 'fasta'):\n",
    "    myseq= str(line.seq)\n",
    "    id= str (line.id)\n",
    "    count = 0\n",
    "  \n",
    "    for i in myseq:\n",
    "        if i == 'C'or i == 'G':\n",
    "           count += 1\n",
    "    gc = (count*100)/len(myseq)\n",
    "    if gc> gcmax:\n",
    "        gcmax = gc\n",
    "        idmax = id\n",
    "print(idmax,gcmax)\n"
   ]
  },
  {
   "cell_type": "markdown",
   "metadata": {},
   "source": [
    "- consensus and profile"
   ]
  },
  {
   "cell_type": "code",
   "execution_count": 70,
   "metadata": {},
   "outputs": [
    {
     "name": "stdout",
     "output_type": "stream",
     "text": [
      "TCTAACTTTACTCGATCGGAGTTGAAATCCCGTCCTCAAACGCCAGAGGTTGGGGTAAACTAGTGGCTCATTCTCCGTACACATATGCATATCGATTGGCATCCCGCGCTTCTGCGTTTGTATTGGCACATCCCGTGCTAGAGCTATAGAGGGCCCCAGGGGGCCGCTCGCGAGGGATTGACAGCGTAGTAATGGGGATTCCTCCACTATGTCCCACCCGAAGCCCAAATCTGGCCAGAGTACACTTCGCTGGGATCTGTGACGCCTTGCGGTGCACTCGACTTAACAGTTGCAATGCTGAGTGGCTGCTAACCCTAAAACGCGACAACGCAGCATCGCGGATGGGCTAAGACGAGTTGATCGACCTGTCACAACCGAGCCGGTCTATTGCGCAAACCCCGAGAGTTACGTAGAGTGATATAGAACCAAATTATACGATTTGCTCGTGTCGACCATGCATGGCCCTGGCGCGCAGGTAAGGCCCGGGGGGAAAATCACTTTGCACTCCGTCATTTGAAGTGGGGATTGTACCTCCAAGCAGACAACTGATATTGTCGTTTTCGATAAGAAACCCTACAGAGCGGCAAATGCTTATCAGGAAACTAATATATAAACTTCCAGCCTCTGATCGGGCCAAAATGGCAAACATCTATATCGAACCTAGGGCCTAGACCGATAGAAGTTACGTTTAAGGGGTAGTAAATCTGTTGTCTAGGTACTCCGACCTTTACTCGAGGCTACATCGGCTGTATAAACGTTTCTCACTATGACTACAGCCAGCTCAAGTGGAAGGACTGTAAGTTCGTTGCCCACGGCGCCCCACCGCTTCTGGGACATGCAGGTAAATCGACATGCTGAGCCGGATCAGACGAGCCATTCATACGCGGCTTCGGTACGGGGCAACCAAAATGTGAAATGAGCGGAGTTCGTATTCCCGAAACCTCAGATGAAACTCAAAGAACGAAG\n",
      "A: 4 1 4 4 3 1 1 0 0 6 1 2 2 3 4 2 3 2 2 3 0 0 2 3 4 4 3 2 3 1 1 2 2 0 3 3 2 4 4 4 0 0 1 2 3 3 3 0 3 1 0 0 3 3 3 3 3 5 5 3 3 4 1 1 2 3 1 1 3 5 0 2 2 0 2 2 2 3 5 2 5 2 4 2 5 2 2 1 4 2 4 1 2 2 5 0 2 3 2 2 3 3 2 1 1 3 2 3 3 1 3 1 3 3 2 2 2 1 2 1 2 4 2 2 1 2 3 3 3 3 2 1 2 2 2 2 2 1 0 4 1 4 3 1 3 3 1 3 3 3 0 2 0 1 0 3 2 4 2 2 1 2 1 3 2 0 1 0 3 4 3 3 4 0 2 1 3 1 1 2 6 2 4 1 3 3 2 5 2 2 4 4 2 2 3 1 1 5 1 3 2 1 1 3 3 4 3 3 4 3 3 3 2 3 0 3 1 2 4 1 4 5 1 2 2 1 3 4 4 2 3 2 3 3 1 2 5 2 5 1 2 5 3 4 2 2 2 3 2 2 1 0 1 3 4 2 2 1 2 1 3 4 2 3 4 3 3 3 1 4 2 1 2 1 1 3 2 3 3 3 5 1 3 3 5 3 1 4 3 0 3 1 3 5 4 3 1 2 3 1 4 3 2 1 2 2 3 1 3 1 5 5 2 1 1 0 6 4 3 4 3 3 1 1 3 2 3 4 2 3 1 3 3 1 4 2 2 2 2 1 1 4 2 1 2 2 0 1 4 4 3 4 3 1 4 1 2 1 3 3 2 1 1 3 1 1 3 2 3 0 3 4 5 3 3 2 1 4 2 0 2 1 3 2 3 2 5 1 0 3 2 2 3 4 5 3 3 1 3 3 4 4 1 5 1 2 0 5 2 2 2 6 0 4 3 1 1 5 3 4 1 4 1 4 4 3 2 4 5 5 1 2 4 1 4 2 1 4 3 2 2 2 3 1 0 1 2 1 1 4 1 4 2 2 4 1 3 3 3 2 2 2 2 3 1 1 2 2 3 2 1 2 3 3 2 1 1 5 4 2 1 4 3 2 2 3 0 1 3 3 5 3 4 5 3 1 5 4 1 2 2 2 2 4 1 3 3 2 1 3 0 6 1 1 2 2 3 5 3 2 3 2 2 1 4 1 2 2 3 5 2 2 0 3 0 5 3 2 2 4 2 3 2 3 4 3 1 2 3 1 3 1 3 3 1 2 0 3 1 1 4 2 1 4 1 4 5 1 4 5 3 1 3 3 2 4 2 4 1 4 2 1 2 2 3 4 4 4 1 1 4 0 2 4 2 1 4 1 2 4 4 4 2 4 5 5 2 3 3 5 1 4 5 4 2 1 2 0 2 3 1 3 2 1 2 2 2 5 2 1 3 0 2 3 3 3 3 5 4 1 1 0 2 5 3 5 2 4 1 2 4 4 2 3 2 1 2 5 3 1 2 2 4 1 2 2 3 1 2 4 1 3 1 1 1 4 2 4 2 4 3 0 2 2 3 3 3 2 2 2 4 4 1 3 3 2 3 3 3 1 3 4 4 3 2 3 2 2 2 1 1 4 4 4 1 0 1 4 3 3 3 2 1 5 4 1 3 2 3 4 4 2 3 2 4 3 2 2 1 4 2 5 2 1 2 3 2 0 4 3 4 2 6 5 4 3 2 2 2 3 1 3 2 6 2 2 4 2 2 4 1 2 4 1 4 0 1 2 5 2 2 3 3 5 5 0 1 3 2 4 3 2 3 3 2 1 2 3 5 3 3 2 1 1 3 2 4 3 1 2 3 3 2 2 1 2 4 2 1 3 2 3 0 3 2 2 2 2 2 1 2 2 0 3 1 5 4 3 3 4 3 3 4 5 5 3 3 0 1 3 2 5 2 4 1 1 0 6 2 3 1 0 1 4 2 2 5 3 5 1 1 4 2 3 2 3 1 2 3 7 1 5 3 3 1 3 2 2 3 1 0 1 3 3 5 2 3 3 2 2 3 4 3 1 3 4 4 4 5 3 1 4 1 4 3 5 2 0 5 1 1 1 0 5 2 2 1 2 1 3 5 1 3 1 1 2 2 4 4 4 3 2 1 3 6 2 4 3 3 5 4 4 1 0 2 5 5 3 2 5 4 3 0 4 4 3 \n",
      "C: 0 5 1 3 2 4 1 3 2 1 4 2 3 1 1 3 4 3 2 3 3 3 1 1 1 1 3 2 4 6 4 3 2 5 4 1 5 3 2 2 5 2 4 4 2 2 3 3 2 2 4 3 3 1 1 1 3 2 2 5 1 1 3 4 3 2 4 3 4 2 2 2 3 1 5 4 1 1 2 4 2 5 0 1 1 1 2 4 3 2 1 2 3 3 1 3 3 2 2 4 2 3 4 4 4 1 7 1 3 3 1 5 2 1 3 2 4 2 2 2 2 2 1 2 3 2 4 1 4 3 3 5 3 3 3 2 3 4 3 1 2 1 2 4 0 3 3 3 2 2 3 1 2 4 5 3 4 1 3 2 1 2 2 4 5 4 4 3 5 0 3 0 3 2 0 3 2 2 3 3 2 3 1 2 4 2 3 0 3 1 1 2 2 2 2 2 3 2 3 1 4 5 2 3 3 2 4 0 2 1 1 2 4 3 5 2 6 6 4 2 3 1 2 5 3 3 1 2 2 2 4 3 1 2 5 3 1 3 2 3 2 2 3 2 4 2 1 3 3 3 2 0 3 2 0 1 3 2 2 2 2 1 5 2 5 4 2 1 2 4 2 3 1 4 5 3 4 3 4 1 1 3 3 0 1 2 4 1 2 2 2 4 4 2 1 2 4 5 3 2 4 3 3 3 1 5 2 1 3 0 1 2 3 3 5 3 1 3 2 1 5 2 5 0 2 4 2 3 3 1 5 2 2 4 3 1 4 2 4 3 2 2 0 3 3 2 5 1 1 3 1 1 5 0 2 3 3 1 3 2 3 5 3 2 3 3 0 1 0 5 3 5 3 1 3 4 3 4 2 4 4 1 0 0 3 3 0 4 5 1 4 3 3 1 2 2 4 5 3 3 1 3 3 2 1 1 2 2 5 3 1 2 2 1 1 4 3 1 0 3 3 2 3 1 2 4 3 2 2 0 2 2 3 1 2 4 2 1 2 3 2 2 4 3 5 4 1 2 2 4 4 1 4 4 3 2 0 5 3 3 2 2 5 3 6 0 2 3 4 0 6 2 4 2 2 2 1 2 2 0 3 5 4 4 0 3 3 3 0 3 2 3 1 1 2 4 2 5 3 3 1 3 4 2 5 2 4 4 2 1 4 2 3 3 1 2 3 2 1 0 1 0 3 2 2 1 2 1 1 3 3 3 5 5 5 0 3 2 4 2 1 2 3 2 3 4 4 2 2 1 2 1 2 2 3 5 3 2 2 2 0 4 2 1 2 2 0 2 1 0 2 4 4 3 3 2 4 1 2 2 0 4 1 1 4 2 3 2 3 4 4 3 0 2 2 3 3 2 1 2 2 1 5 1 4 4 1 2 2 1 2 3 3 1 5 2 4 5 4 1 0 3 4 3 3 1 3 0 2 5 2 2 3 3 5 3 2 4 2 1 1 3 3 4 2 1 4 2 2 4 2 1 2 3 2 5 2 1 2 6 4 4 2 4 3 2 4 4 1 3 2 3 4 5 2 3 2 3 3 2 2 2 2 2 2 3 2 3 1 1 0 1 2 2 2 1 1 3 1 3 2 1 3 1 4 2 1 1 3 2 1 4 1 1 2 1 2 2 3 2 4 3 3 1 4 4 2 1 0 1 4 2 4 2 3 1 3 4 3 2 3 2 1 5 2 0 5 3 1 1 1 3 2 1 2 3 2 2 1 2 5 0 4 2 5 3 3 2 1 1 3 1 2 4 2 1 5 3 1 3 5 1 5 0 5 4 3 1 1 2 3 3 2 3 4 2 3 0 2 2 3 2 2 4 1 2 0 2 6 4 4 2 4 2 0 5 1 3 5 3 4 3 5 4 0 4 0 3 4 2 4 2 1 3 5 1 1 2 6 2 1 0 2 3 1 2 3 6 3 1 4 2 2 2 4 3 1 2 1 5 5 3 1 1 2 4 1 1 2 4 2 3 1 4 5 3 2 1 3 0 1 1 5 0 3 2 2 5 2 2 4 2 2 2 0 5 1 3 2 1 3 1 2 5 4 1 0 2 2 2 3 2 2 4 3 0 2 4 1 2 4 2 4 1 2 3 2 4 3 0 0 1 2 5 5 6 3 3 3 2 3 5 2 4 2 1 3 1 0 3 3 1 5 1 4 3 2 3 0 1 2 3 3 2 0 2 \n",
      "G: 1 3 1 2 3 2 3 3 1 1 2 2 2 5 2 2 1 3 5 3 6 2 3 3 2 2 2 3 1 1 2 4 3 4 2 2 2 2 2 2 4 5 2 3 3 3 2 4 3 3 2 4 3 4 3 3 2 1 0 2 0 1 3 1 4 3 2 3 1 2 3 3 3 3 1 1 5 3 1 1 2 1 3 1 2 3 4 3 1 2 4 3 2 4 3 2 0 4 5 3 2 0 1 3 3 4 1 3 2 3 2 3 0 3 3 4 0 2 3 5 2 1 2 3 5 3 1 3 1 1 2 3 3 3 4 2 3 2 2 2 4 3 3 3 3 2 2 2 3 2 5 4 4 2 3 2 2 2 3 5 5 3 5 2 1 4 3 2 1 4 2 5 3 6 6 3 2 3 3 3 2 3 3 5 3 4 2 2 4 3 2 2 2 4 3 4 3 1 2 2 0 0 1 2 2 1 3 3 3 3 5 2 2 2 1 2 0 1 1 4 1 2 4 3 3 3 3 2 1 2 0 1 4 3 1 2 4 3 0 4 2 2 3 1 1 3 3 2 4 2 3 6 4 3 3 2 3 2 3 1 4 2 1 3 1 3 2 2 4 1 6 4 0 4 3 1 3 0 2 4 1 3 1 1 1 2 3 2 3 1 1 4 2 1 2 1 5 2 0 6 0 4 2 4 6 3 0 5 2 2 3 3 2 3 2 2 0 0 3 2 2 3 2 5 3 2 2 2 3 5 2 3 3 2 2 3 2 3 1 4 6 2 3 5 3 5 2 3 1 1 4 2 1 6 2 4 1 2 3 2 2 2 4 2 3 3 2 4 2 2 1 0 1 3 3 2 4 0 6 3 1 5 4 3 2 1 2 1 0 3 2 4 3 2 2 3 1 1 2 2 4 2 4 2 5 2 3 2 2 4 3 0 6 1 4 1 5 3 2 1 2 3 5 4 2 2 3 3 3 3 2 2 2 2 2 3 5 3 2 2 3 3 1 3 3 4 2 5 3 1 5 2 2 4 2 3 5 1 1 1 4 5 2 3 1 4 4 3 0 7 2 5 1 3 3 4 3 2 2 6 5 0 2 0 4 4 5 4 4 4 0 1 3 2 1 4 0 0 2 1 3 4 1 4 3 1 1 1 4 2 3 2 2 3 1 4 1 1 5 2 4 5 3 5 2 3 3 5 2 2 3 3 0 1 1 2 2 3 3 3 4 3 2 3 1 2 1 4 3 1 3 3 2 4 1 1 4 1 3 3 2 2 4 2 2 2 4 4 2 1 2 2 2 1 2 1 2 3 5 2 6 1 5 5 3 1 0 2 1 4 0 2 3 2 1 3 1 4 5 1 1 2 0 1 1 1 3 3 2 2 1 1 1 1 3 2 0 2 1 3 6 2 1 3 2 3 4 3 1 2 4 6 3 2 1 3 2 0 2 4 4 4 3 0 2 1 3 2 3 1 0 2 3 2 3 2 4 2 2 3 2 0 3 4 3 4 2 2 3 2 5 1 3 2 4 1 1 3 3 1 3 5 2 3 2 2 3 2 3 3 3 3 6 5 5 4 3 2 3 1 3 3 1 2 1 1 4 3 2 4 3 1 1 3 4 7 2 1 1 2 0 3 4 1 0 2 1 2 2 2 1 1 3 5 2 6 3 1 3 1 3 1 2 2 3 5 2 2 4 2 2 1 1 2 3 1 3 3 1 1 1 3 2 1 3 1 0 3 4 3 3 2 1 3 1 6 2 3 1 3 1 2 2 3 0 5 1 5 5 3 3 3 3 2 1 3 4 1 0 2 3 3 3 1 4 3 2 4 1 2 3 2 3 5 6 2 5 3 3 1 3 2 2 2 5 1 4 1 2 2 4 4 7 1 2 4 0 3 1 0 4 5 0 1 2 3 0 3 4 3 1 2 3 4 3 3 8 0 5 1 1 4 5 2 1 3 2 5 0 2 4 2 4 2 1 2 3 3 3 1 3 1 2 6 3 4 3 1 1 3 4 4 4 1 1 0 4 3 5 4 1 2 2 1 1 1 3 1 1 1 5 0 4 0 2 1 3 5 1 4 2 5 6 2 6 0 3 2 4 3 4 3 1 2 3 2 3 3 2 2 2 1 3 2 0 4 2 3 5 1 2 3 2 2 3 1 2 1 5 2 2 1 5 4 3 4 \n",
      "T: 5 1 4 1 2 3 5 4 7 2 3 4 3 1 3 3 2 2 1 1 1 5 4 3 3 3 2 3 2 2 3 1 3 1 1 4 1 1 2 2 1 3 3 1 2 2 2 3 2 4 4 3 1 2 3 3 2 2 3 0 6 4 3 4 1 2 3 3 2 1 5 3 2 6 2 3 2 3 2 3 1 2 3 6 2 4 2 2 2 4 1 4 3 1 1 5 5 1 1 1 3 4 3 2 2 2 0 3 2 3 4 1 5 3 2 2 4 5 3 2 4 3 5 3 1 3 2 3 2 3 3 1 2 2 1 4 2 3 5 3 3 2 2 2 4 2 4 2 2 3 2 3 4 3 2 2 2 3 2 1 3 3 2 1 2 2 2 5 1 2 2 2 0 2 2 3 3 4 3 2 0 2 2 2 0 1 3 3 1 4 3 2 4 2 2 3 3 2 4 4 4 4 6 2 2 3 0 4 1 3 1 3 2 2 4 3 3 1 1 3 2 2 3 0 2 3 3 2 3 4 3 4 2 2 3 3 0 2 3 2 4 1 1 3 3 3 4 2 1 3 4 4 2 2 3 5 2 5 3 6 1 3 2 2 0 0 3 4 3 1 0 2 7 1 1 3 1 4 1 2 3 3 3 6 3 3 2 3 2 7 4 1 1 2 3 4 0 1 4 1 2 0 3 2 1 0 5 3 2 7 1 0 3 3 2 5 3 3 2 3 0 2 2 4 2 2 3 1 2 1 2 2 2 3 1 4 2 3 3 2 1 2 5 1 2 1 3 5 4 2 2 3 1 3 2 2 4 6 1 3 3 2 2 3 3 3 5 3 5 3 3 1 1 3 1 2 2 2 0 3 3 3 3 5 2 4 3 4 5 3 2 1 1 3 1 2 2 3 2 2 1 1 2 1 3 5 5 1 1 1 4 2 2 4 2 4 1 1 5 2 4 1 1 1 2 1 2 1 0 2 5 4 1 6 2 1 2 2 3 3 3 3 2 3 2 1 5 2 4 1 0 3 2 0 1 4 2 1 3 4 2 1 1 1 2 5 2 2 3 1 1 1 2 2 3 3 5 1 2 2 1 1 1 4 4 0 2 2 3 0 3 3 2 2 4 1 3 1 4 4 4 1 3 0 1 4 2 3 3 4 3 0 4 3 6 2 3 2 1 6 2 3 2 2 2 5 3 2 4 0 2 2 5 1 4 3 2 3 1 1 3 2 3 2 2 1 4 2 2 7 2 5 3 1 5 2 3 4 4 4 4 2 3 3 5 2 1 3 3 4 3 3 1 3 3 3 2 2 2 2 2 4 2 2 0 3 3 2 5 1 2 5 5 2 5 3 2 3 2 3 3 3 3 4 0 0 4 2 3 2 6 2 1 4 0 5 4 3 3 3 3 2 3 3 3 4 1 2 5 2 1 2 2 2 1 1 3 1 2 4 4 3 2 1 3 3 1 2 4 3 4 3 3 2 3 2 2 2 3 0 2 4 1 1 2 2 1 3 4 1 2 3 2 2 3 2 5 0 2 3 2 3 4 3 3 2 2 3 4 4 3 2 1 0 0 3 3 2 3 5 2 2 2 4 3 4 3 4 3 3 5 1 4 2 3 2 5 3 3 3 3 2 2 3 2 3 4 5 5 3 1 5 0 1 1 0 2 3 3 3 2 2 5 2 3 2 1 5 1 4 3 4 1 2 1 3 3 3 6 4 3 4 2 1 0 4 3 3 3 2 3 5 3 2 3 3 2 2 3 2 2 4 0 2 0 1 5 1 2 1 1 2 2 2 3 4 1 6 3 3 1 3 4 4 2 3 4 1 2 2 0 3 1 1 3 1 0 2 1 3 1 2 3 1 3 3 4 4 2 5 0 2 2 3 2 0 5 2 0 4 2 2 4 1 2 2 4 1 2 3 3 1 3 0 2 3 1 2 2 1 3 3 3 3 5 1 2 1 3 3 3 1 3 1 2 2 4 4 1 2 5 3 0 1 3 1 3 2 4 4 2 3 1 4 4 3 2 1 1 3 3 3 3 3 2 4 3 3 2 4 1 4 3 2 2 4 3 1 3 3 3 2 0 2 0 5 4 2 2 4 1 5 4 2 1 0 2 0 1 2 2 2 4 1 2 3 1 3 2 1 1 2 2 7 1 1 1 3 3 2 2 3 2 0 3 1 \n"
     ]
    }
   ],
   "source": [
    "from Bio import SeqIO\n",
    "from collections import Counter\n",
    "import pandas as pd \n",
    " \n",
    "lst = []\n",
    "for x in SeqIO.parse('rosalind_cons.txt', 'fasta'):\n",
    "     lst.append(x.seq)\n",
    " \n",
    "lst_cnt = []\n",
    "for pos in range(len(lst[0])):\n",
    "     new_lst = []\n",
    "     for seq in lst:\n",
    "         new_lst.append(seq[pos])\n",
    "         \n",
    "     lst_cnt.append(Counter(new_lst))\n",
    " \n",
    "for pos in range(len(lst_cnt)):\n",
    "     print(lst_cnt[pos].most_common()[0][0], end='')\n",
    " \n",
    "print()\n",
    " \n",
    "dft = pd.DataFrame(lst_cnt, columns=['A', 'C', 'G', 'T']).fillna(0).T\n",
    "for symbol in ['A', 'C', 'G', 'T']:\n",
    "     print(symbol, end=': ')\n",
    "     dft.loc[symbol].apply(lambda row: print(int(row), end=' '))\n",
    "     print()   "
   ]
  },
  {
   "cell_type": "markdown",
   "metadata": {},
   "source": [
    "- introduction to random strings"
   ]
  },
  {
   "cell_type": "code",
   "execution_count": 10,
   "metadata": {},
   "outputs": [
    {
     "name": "stdout",
     "output_type": "stream",
     "text": [
      "-69.76253900849633 -64.23127254143851 -58.141950093899645 -54.94893745921057 -51.01586102392041 -49.991289087146995 -48.69785872559858 -48.51483302706714 -48.166628817525876 -48.22292456570153 -48.795747763592885 -49.167946135790956 -51.0280412986794 -53.54281516436119 -55.370620045995615 -57.2956523677804 -65.07635505827561 -76.68568885199322 "
     ]
    }
   ],
   "source": [
    "import math\n",
    "\n",
    "dataset = \"ATCGCCTTACTCGCATCATTACCCCAGTAATAGGACGTGCCGCTGACTAGGATCATGGATCCCCTTAACGACTTGACTTT\"\n",
    "number_line = \"0.073 0.105 0.161 0.206 0.294 0.330 0.400 0.416 0.474 0.519 0.583 0.607 0.684 0.748 0.782 0.811 0.888 0.945\"\n",
    "gcc = [float(i) for i in number_line.split()]\n",
    "a = dataset.count('A') + dataset.count('T')\n",
    "c = dataset.count('C') + dataset.count('G')\n",
    "for i in gcc:\n",
    "    p = a * math.log((1-i)/2, 10) + c * math.log(i/2, 10)\n",
    "    print(p, end=\" \")\n",
    "   \n",
    "\n",
    "\n",
    "\n",
    "\n",
    "\n"
   ]
  },
  {
   "cell_type": "code",
   "execution_count": null,
   "metadata": {},
   "outputs": [],
   "source": []
  }
 ],
 "metadata": {
  "kernelspec": {
   "display_name": "Python 3.10.1 64-bit",
   "language": "python",
   "name": "python3"
  },
  "language_info": {
   "codemirror_mode": {
    "name": "ipython",
    "version": 3
   },
   "file_extension": ".py",
   "mimetype": "text/x-python",
   "name": "python",
   "nbconvert_exporter": "python",
   "pygments_lexer": "ipython3",
   "version": "3.10.1"
  },
  "orig_nbformat": 4,
  "vscode": {
   "interpreter": {
    "hash": "afb734500600fd355917ca529030176ea0ca205570884b88f2f6f7d791fd3fbe"
   }
  }
 },
 "nbformat": 4,
 "nbformat_minor": 2
}
